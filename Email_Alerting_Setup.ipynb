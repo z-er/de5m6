{
 "cells": [
  {
   "cell_type": "markdown",
   "metadata": {},
   "source": [
    "# 📧 Email Alerting Setup for Pipeline Failures\n",
    "\n",
    "This notebook configures email alerts for critical pipeline failures using Python's `smtplib`.\n",
    "\n",
    "Email: t71808220@gmail.com\n",
    "Password: testQA12345"
   ]
  },
  {
   "cell_type": "code",
   "execution_count": 1,
   "metadata": {},
   "outputs": [],
   "source": [
    "# Step 1: SMTP Configuration\n",
    "import smtplib\n",
    "from email.mime.text import MIMEText\n",
    "from email.mime.multipart import MIMEMultipart\n",
    "\n",
    "SMTP_SERVER = 'smtp.gmail.com'\n",
    "SMTP_PORT = 587\n",
    "EMAIL_SENDER = 't71808220@example.com'\n",
    "EMAIL_PASSWORD = 'testQA12345'  #TODO: encryption needed. Create a .env file\n",
    "\n",
    "def send_email(to_emails, subject, body):\n",
    "    msg = MIMEMultipart()\n",
    "    msg['From'] = EMAIL_SENDER\n",
    "    msg['To'] = \", \".join(to_emails)\n",
    "    msg['Subject'] = subject\n",
    "\n",
    "    msg.attach(MIMEText(body, 'plain'))\n",
    "\n",
    "    try:\n",
    "        server = smtplib.SMTP(SMTP_SERVER, SMTP_PORT)\n",
    "        server.starttls()\n",
    "        server.login(EMAIL_SENDER, EMAIL_PASSWORD)\n",
    "        server.sendmail(EMAIL_SENDER, to_emails, msg.as_string())\n",
    "        server.quit()\n",
    "        print(\"Email sent successfully.\")\n",
    "    except Exception as e:\n",
    "        print(f\"Error sending email: {e}\")"
   ]
  },
  {
   "cell_type": "code",
   "execution_count": 2,
   "metadata": {},
   "outputs": [],
   "source": [
    "# Step 2: Creating Email Template\n",
    "def create_failure_alert(pipeline_name, error_details, timestamp):\n",
    "    return f\"\"\"\n",
    "    ALERT: Pipeline Failure Detected 🚨\n",
    "\n",
    "    Pipeline: {pipeline_name}\n",
    "    Timestamp: {timestamp}\n",
    "    \n",
    "    Error Details:\n",
    "    {error_details}\n",
    "\n",
    "    Please investigate immediately.\n",
    "    \n",
    "    - DataOps Team\n",
    "    \"\"\""
   ]
  },
  {
   "cell_type": "code",
   "execution_count": 4,
   "metadata": {},
   "outputs": [],
   "source": [
    "# Step 4: Simulate and Test Email Alert\n",
    "def test_email_alert():\n",
    "    pipeline_name = \"Test_Pipeline\"\n",
    "    error_details = \"Simulated error: FileNotFoundError in sales pipeline\"\n",
    "    timestamp = datetime.now().strftime(\"%Y-%m-%d %H:%M:%S\")\n",
    "    message = create_failure_alert(pipeline_name, error_details, timestamp)\n",
    "    send_email([EMAIL_SENDER], f\"[TEST ALERT] {pipeline_name} Failure\", message)"
   ]
  },
  {
   "cell_type": "code",
   "execution_count": 5,
   "metadata": {},
   "outputs": [
    {
     "name": "stdout",
     "output_type": "stream",
     "text": [
      "Error sending email: [Errno 11001] getaddrinfo failed\n"
     ]
    }
   ],
   "source": [
    "# Run test\n",
    "test_email_alert()"
   ]
  },
  {
   "cell_type": "code",
   "execution_count": null,
   "metadata": {},
   "outputs": [],
   "source": []
  }
 ],
 "metadata": {
  "kernelspec": {
   "display_name": "Python 3 (ipykernel)",
   "language": "python",
   "name": "python3"
  },
  "language_info": {
   "codemirror_mode": {
    "name": "ipython",
    "version": 3
   },
   "file_extension": ".py",
   "mimetype": "text/x-python",
   "name": "python",
   "nbconvert_exporter": "python",
   "pygments_lexer": "ipython3",
   "version": "3.12.10"
  }
 },
 "nbformat": 4,
 "nbformat_minor": 4
}
