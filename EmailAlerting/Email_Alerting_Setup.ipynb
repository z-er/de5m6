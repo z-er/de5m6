{
 "cells": [
  {
   "cell_type": "markdown",
   "metadata": {},
   "source": [
    "# 📧 Email Alerting Setup for Pipeline Failures\n",
    "\n",
    "This notebook configures email alerts for critical pipeline failures using Python's `smtplib`.\n",
    "\n",
    "Email: t71808220@gmail.com\n",
    "App password: osdo lnnr imrt izsx"
   ]
  },
  {
   "cell_type": "code",
   "execution_count": 29,
   "metadata": {},
   "outputs": [
    {
     "name": "stdout",
     "output_type": "stream",
     "text": [
      "Sender: t71808220@gmail.com\n",
      "Password: osdo lnnr imrt izsx\n"
     ]
    }
   ],
   "source": [
    "from dotenv import load_dotenv\n",
    "import os\n",
    "\n",
    "load_dotenv()\n",
    "print(\"Sender:\", os.getenv(\"EMAIL_NAME\"))\n",
    "print(\"Password:\", os.getenv(\"EMAIL_PASSWORD\"))"
   ]
  },
  {
   "cell_type": "code",
   "execution_count": 31,
   "metadata": {},
   "outputs": [
    {
     "name": "stdout",
     "output_type": "stream",
     "text": [
      "Email sent successfully.\n"
     ]
    }
   ],
   "source": [
    "from dotenv import load_dotenv\n",
    "import os\n",
    "\n",
    "load_dotenv()  # Loads variables from .env into environment\n",
    "\n",
    "EMAIL_NAME = os.getenv(\"EMAIL_NAME\")\n",
    "EMAIL_PASSWORD = os.getenv(\"EMAIL_PASSWORD\")\n",
    "\n",
    "# Step 1: SMTP Configuration\n",
    "import smtplib\n",
    "from email.mime.text import MIMEText\n",
    "from email.mime.multipart import MIMEMultipart\n",
    "from dotenv import load_dotenv\n",
    "import os\n",
    "from datetime import datetime\n",
    "\n",
    "# Load environment variables from .env\n",
    "load_dotenv()\n",
    "\n",
    "SMTP_SERVER = 'smtp.gmail.com'\n",
    "SMTP_PORT = 587\n",
    "EMAIL_NAME = os.getenv(\"EMAIL_NAME\")\n",
    "EMAIL_PASSWORD = os.getenv(\"EMAIL_PASSWORD\")\n",
    "\n",
    "def send_email(to_emails, subject, body):\n",
    "    msg = MIMEMultipart()\n",
    "    msg['From'] = EMAIL_NAME\n",
    "    msg['To'] = \", \".join(to_emails)\n",
    "    msg['Subject'] = subject\n",
    "    msg.attach(MIMEText(body, 'plain'))\n",
    "\n",
    "    try:\n",
    "        server = smtplib.SMTP(SMTP_SERVER, SMTP_PORT)\n",
    "        server.starttls()\n",
    "        server.login(EMAIL_NAME, EMAIL_PASSWORD)\n",
    "        server.sendmail(EMAIL_NAME, to_emails, msg.as_string())\n",
    "        server.quit()\n",
    "        print(\"Email sent successfully.\")\n",
    "    except Exception as e:\n",
    "        print(f\"Error sending email: {e}\")\n",
    "\n",
    "# Step 2: Email Template\n",
    "def create_failure_alert(pipeline_name, error_details, timestamp):\n",
    "    return f\"\"\"\n",
    "    ALERT: Pipeline Failure Detected 🚨\n",
    "\n",
    "    Pipeline: {pipeline_name}\n",
    "    Timestamp: {timestamp}\n",
    "\n",
    "    Error Details:\n",
    "    {error_details}\n",
    "\n",
    "    Please investigate immediately.\n",
    "\n",
    "    - DataOps Team\n",
    "    \"\"\"\n",
    "\n",
    "# Step 3: Simulate and Test Email Alert\n",
    "def test_email_alert():\n",
    "    pipeline_name = \"Test_Pipeline\"\n",
    "    error_details = \"Simulated error: FileNotFoundError in sales pipeline\"\n",
    "    timestamp = datetime.now().strftime(\"%Y-%m-%d %H:%M:%S\")\n",
    "    message = create_failure_alert(pipeline_name, error_details, timestamp)\n",
    "    send_email([EMAIL_NAME], f\"[TEST ALERT] {pipeline_name} Failure\", message)\n",
    "\n",
    "# Run test\n",
    "test_email_alert()\n"
   ]
  }
 ],
 "metadata": {
  "kernelspec": {
   "display_name": "base",
   "language": "python",
   "name": "python3"
  },
  "language_info": {
   "codemirror_mode": {
    "name": "ipython",
    "version": 3
   },
   "file_extension": ".py",
   "mimetype": "text/x-python",
   "name": "python",
   "nbconvert_exporter": "python",
   "pygments_lexer": "ipython3",
   "version": "3.11.7"
  }
 },
 "nbformat": 4,
 "nbformat_minor": 4
}
